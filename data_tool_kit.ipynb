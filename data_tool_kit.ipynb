{
 "cells": [
  {
   "cell_type": "code",
   "execution_count": null,
   "metadata": {},
   "outputs": [],
   "source": [
    "import pandas as pd\n",
    "import numpy as np\n",
    "import matplotlib.pyplot as plt\n",
    "import seaborn as sns"
   ]
  },
  {
   "cell_type": "code",
   "execution_count": null,
   "metadata": {},
   "outputs": [],
   "source": [
    "df = pd.read_csv(\"/Users\\DELL\\OneDrive\\Desktop\\R L\\Data_set\\People Data.csv\")"
   ]
  },
  {
   "cell_type": "code",
   "execution_count": null,
   "metadata": {},
   "outputs": [],
   "source": [
    "temp = df"
   ]
  },
  {
   "cell_type": "code",
   "execution_count": null,
   "metadata": {},
   "outputs": [],
   "source": [
    "#Demonstrate three different methods for creating identical 2D arrays in NumPy. Provide the code for each\n",
    "#method and the final output after each method.\n",
    "array_1 = np.array([[1,2,3],[4,5,6],[7,8,9]])\n",
    "print(\"Method 1:\")\n",
    "print(array_1)\n",
    "array_2 = np.zeros((3,3))\n",
    "array_2[0, :] = [1, 2, 3]\n",
    "array_2[1, :] = [4, 5, 6]\n",
    "array_2[2, :] = [7, 8, 9]\n",
    "print(\"Method 2:\")\n",
    "print(array_2)\n",
    "array_3 = np.full((3,3),0)\n",
    "array_3[0, :] = [1, 2, 3]\n",
    "array_3[1, :] = [4, 5, 6]\n",
    "array_3[2, :] = [7, 8, 9]\n",
    "\n",
    "print(\"Method 3\")\n",
    "print(array_3)"
   ]
  },
  {
   "cell_type": "code",
   "execution_count": null,
   "metadata": {},
   "outputs": [],
   "source": [
    "#[2] Using the Numpy function, generate an array of 100 evenly spaced numbers between 1 and 10 and\n",
    "#Reshape that 1D array into a 2D array.\n",
    "array_1d = np.linspace(start=1,stop=10,num=100)\n",
    "array_2d = array_1d.reshape(10,10)"
   ]
  },
  {
   "cell_type": "code",
   "execution_count": null,
   "metadata": {},
   "outputs": [],
   "source": [
    "#[3]Explain the following terms\n",
    "# The difference in np.array, np.asarray and np.asanyarray\n",
    "#np.array = It can convert a list, tuple, or other array-like object into a NumPy array. It makes a copy of the input data, so any changes made to the original data will not affect the NumPy array.\n",
    "data = [1, 2, 3]\n",
    "arr = np.array(data)\n",
    "\n",
    "print(\"Original data: \", data)\n",
    "print(\"NumPy array: \", arr)\n",
    "\n",
    "data[0] = 10\n",
    "print(\"Original data after modification: \", data)\n",
    "print(\"NumPy array after modification: \", arr)\n",
    "#np.asarray = it does not make a copy of the input data if it is already a NumPy array. Instead, it returns a view of the input data, which means that any changes made to the original data will also affect the NumPy array.\n",
    "data1 = [1, 2, 3]\n",
    "arr1 = np.asarray(data1)\n",
    "\n",
    "print(\"Original data: \", data1)\n",
    "print(\"NumPy array: \", arr1)\n",
    "\n",
    "data1[0] = 10\n",
    "print(\"Original data after modification: \", data1)\n",
    "print(\"NumPy array after modification: \", arr1)\n",
    "#np.asanyarray =  It returns a NumPy array that is a view of the input data if it is already a NumPy array, or a copy of the input data if it is not.\n",
    "data2 = [1, 2, 3]\n",
    "arr2 = np.asarray(data)\n",
    "\n",
    "print(\"Original data: \", data2)\n",
    "print(\"NumPy array: \", arr2)\n",
    "\n",
    "data2[0] = 10\n",
    "print(\"Original data after modification: \", data2)\n",
    "print(\"NumPy array after modification: \", arr2)\n",
    "# The difference between Deep copy and shallow copy\n",
    "#In Shallow copy, a copy of the original object is stored and only the reference address is finally copied. In Deep copy, the copy of the original object and the repetitive copies both are stored\n",
    "#shallow copy is faster then deep copy"
   ]
  },
  {
   "cell_type": "code",
   "execution_count": null,
   "metadata": {},
   "outputs": [],
   "source": [
    "#[4] Generate a 3x3array with random floating-point numbers between 5 and 20 then, round each numPer in\n",
    "#the array to 2 decimal places\n",
    "arr = np.random.uniform(5,20,(3,3))\n",
    "arr = np.round(arr,2)\n",
    "print(arr)"
   ]
  },
  {
   "cell_type": "code",
   "execution_count": null,
   "metadata": {},
   "outputs": [],
   "source": [
    "#(5) Create a NumPy array with random integers Between 1 and 10 of shape (5,6 )) After creating the array\n",
    "#perform the following operations:\n",
    "arr = np.random.randint(1,11,(5,6))\n",
    "#a)Extract all even integers from array\n",
    "even_integers = arr[arr % 2 == 0]\n",
    "print(\"\\nEven integers:\")\n",
    "print(even_integers)\n",
    "even2d = np.array(even_integers)\n",
    "# b)Extract all odd integers from arrayX\n",
    "odd_integers = arr[arr % 2 != 0]\n",
    "print(\"\\nOdd integers:\")\n",
    "print(odd_integers)\n",
    "odd2d = np.array(odd_integers)\n"
   ]
  },
  {
   "cell_type": "code",
   "execution_count": null,
   "metadata": {},
   "outputs": [],
   "source": [
    "#(6) Create a 3D NumPy array of shape (3, 3, 3) containing random integers between 1 and 10. Performs \n",
    "#following operations:\n",
    "arr = np.random.randint(1,10,size=(3,3,3))\n",
    "# a) Find the indices of the maximum values along each depth level (third axis).\n",
    "max_indic = np.argmax(arr,axis=2)\n",
    "#b) Perform elementwise multiplication of between both array.\n",
    "multi = np.multiply(arr,max_indic)\n",
    "print(multi)"
   ]
  },
  {
   "cell_type": "code",
   "execution_count": null,
   "metadata": {},
   "outputs": [],
   "source": [
    "#(7) Clean and transform the 'Phone' column in the sample dataset to remove non-numeric characters and\n",
    "#convert it to a numeric data typee Also display the table attributes and data types of each column\n",
    "temp['Phone'] = temp['Phone'].str.replace(r'\\D+', '', regex=True)\n",
    "temp['Phone'] = pd.to_numeric(temp['Phone'], errors='coerce')\n",
    "\n",
    "# Display the table attributes and data types of each column\n",
    "print(temp.info())\n",
    "\n"
   ]
  },
  {
   "cell_type": "code",
   "execution_count": null,
   "metadata": {},
   "outputs": [],
   "source": [
    "#(8) Perform the following tas\\s using people dataset:\n",
    "#a) Read the 'data.csv' file using pandas, skipping the first 50 rows\n",
    "temp = temp[50:]\n",
    "# b) Only read the columns: 'Last Name', ‘Gender’,’Email’,‘Phone’ and ‘Salary’ from the file.\n",
    "temp = temp[['Last Name', 'Gender', 'Email', 'Phone', 'Salary']]\n",
    "#c) Display the first 10 rows of the filtered dataset.\n",
    "print(temp.head(10))\n",
    "#d) Extract the ‘Salary’' column as a Series and display its last 5 values.\n",
    "salary = temp[\"Salary\"].tail(5)\n",
    "print(\"\\n\")\n",
    "print(salary)"
   ]
  },
  {
   "cell_type": "code",
   "execution_count": null,
   "metadata": {},
   "outputs": [],
   "source": [
    "#(9) Filter and select rows from the People_Dataset, where the “Last Name' column contains the name 'Duke', \n",
    "#'Gender' column contains the word Female and ‘Salary’ should be less than 85000\n",
    "filterd_temp = temp[(temp[\"Last Name\"] == 'Duke')&(temp[\"Gender\"] == \"Female\")& (temp[\"Salary\"]<85000)]\n",
    "print(filterd_temp)"
   ]
  },
  {
   "cell_type": "code",
   "execution_count": null,
   "metadata": {},
   "outputs": [],
   "source": [
    "#(10) Create a 7*5 Dataframe in Pandas using a series generated from 35 random integers between 1 to 6)?\n",
    "data = np.random.randint(1,7,size=(35,))\n",
    "rand_df = pd.DataFrame(data.reshape(7,5),columns=[\"random_numbers_1\", \"random_numbers_2\",\"random_numbers_3\", \"random_numbers_4\",\"random_numbers_5\"])\n",
    "\n"
   ]
  },
  {
   "cell_type": "code",
   "execution_count": null,
   "metadata": {},
   "outputs": [],
   "source": [
    "#(11) Create two different Series, each of length 50, with the following criteria\n",
    "#a) The first Series should contain random numbers ranging from 10 to 50.\n",
    "series1 = pd.Series(np.random.randint(10,51,size=50))\n",
    "#b)The second Series should contain random numbers ranging from 100 to 1000\n",
    "series2 = pd.Series(np.random.randint(100, 1001, size=50))\n",
    "#c) Create a DataFrame by 'oining these Series by column, and, change the names of the columns to 'col1', 'col2',\n",
    "s1_s2_df = pd.DataFrame({\n",
    "    \"col_1\" : series1,\n",
    "    \"col_2\" : series2\n",
    "})"
   ]
  },
  {
   "cell_type": "code",
   "execution_count": null,
   "metadata": {},
   "outputs": [],
   "source": [
    "#(12) Perform the following operations using people data set:\n",
    "#a) Delete the 'Email', 'Phone', and 'Date of birth' columns from the dataset.\n",
    "df = df.drop(['Email', 'Phone', 'Date of birth'], axis=1)\n",
    "\n",
    "print(df.columns)\n",
    "#b) Delete the rows containing any missing values.\n",
    "df = df.dropna()\n",
    "#c) Print the final outut also\n",
    "print(df)"
   ]
  },
  {
   "cell_type": "code",
   "execution_count": null,
   "metadata": {},
   "outputs": [],
   "source": [
    "#(13) Create two NumPy arrays, x and y, each containing 100 random float values between 0 and 1. Perform the \n",
    "#following tasks using Matplotlib and NumPy:\n",
    "x = np.random.uniform(0,1,size=100)\n",
    "y = np.random.uniform(0,1,size=100)\n",
    "#a) Create a scatter plot using x and y, setting the color of the Points to red and the marker style to 'o'\n",
    "plt.figure(figsize=(8,8))\n",
    "plt.scatter(x=x,y=y,color=\"red\",marker='o',label=\"Scatter\")\n",
    "#b) Add a horizontal line at y = 0.5 using a dashed line style and label it as 'y = 0.5'.\n",
    "plt.axhline(y=0.5,linestyle='--',color='black',label='y=0.5')\n",
    "#c) Add a vertical line at x = 0.5 using a dotted line style and label it as 'x = 0.5'.\n",
    "plt.axvline(x=0.5,linestyle=':',color='Green',label='x=0.5')\n",
    "#d) Label the x-axis as 'X-axis' and the y-axis as 'Y-axis'\n",
    "plt.xlabel('X-axis')\n",
    "plt.ylabel('Y-axis')\n",
    "#e) Set the title of the Plot as 'Advanced Scatter Plot of Random Values'\n",
    "plt.title('Advanced Scatter Plot of Random Values')\n",
    "#f) Display a legend for the scatter plot, the horizontal line, and the vertical line.\n",
    "plt.legend()\n",
    "#Show Plot\n",
    "plt.show()\n",
    "\n"
   ]
  },
  {
   "cell_type": "code",
   "execution_count": null,
   "metadata": {},
   "outputs": [],
   "source": [
    "#(14) Create a time-series dataset in a Pandas DataFrame with columns: 'Date', 'Temperature', 'Humidity' and \n",
    "#Perform the following tasks using Matplotlib\n",
    "date_range = pd.date_range(start=\"2/1/2024\",end=\"2/10/2024\")\n",
    "Temrature = np.random.randint(20,40,size=10)\n",
    "humidity = np.random.randint(50,100,size=10)\n",
    "T_S_df = pd.DataFrame({\n",
    "    'Date':date_range,\n",
    "    'Temperature':Temrature,\n",
    "    'Humidity':humidity\n",
    "})\n",
    "#a) Plot the 'Temperature' and 'Humidity' on the same plot with different y-axes (left y-axis for 'Temperature' and \n",
    "#right y-axis for 'Humidity').\n",
    "figur,ax1 = plt.subplots(figsize=(10,5))\n",
    "ax1.plot(T_S_df[\"Date\"],T_S_df[\"Temperature\"],label=\"Tempratue\",color=\"g\")\n",
    "#b) Label the x-axis as 'Date'.\n",
    "ax1.set_xlabel(\"Date\")\n",
    "ax1.set_ylabel(\"Tremprature\",color=\"g\")\n",
    "ax1.tick_params(axis=\"y\",labelcolor=\"g\")\n",
    "ax2 = ax1.twinx()\n",
    "ax2.plot(T_S_df[\"Date\"],T_S_df[\"Humidity\"],label=\"Humidity\",color=\"Red\")\n",
    "ax2.set_ylabel(\"Humidity\",color=\"r\")\n",
    "ax2.tick_params(axis=\"y\",labelcolor=\"r\")\n",
    "#c) Set the title of the Plot as 'TemPerature and Humidity Over Time\n",
    "plt.title('Temperature and Humidity Over Time')\n",
    "plt.show()\n"
   ]
  },
  {
   "cell_type": "code",
   "execution_count": null,
   "metadata": {},
   "outputs": [],
   "source": [
    "#(15) Create a NumPy array data containing 1000 samples from a normal distribution. Perform the following \n",
    "#tasks using Matplotlib:\n",
    "data = np.random.normal(loc=0,scale=1,size=1000)\n",
    "#a) Plot a histogram of the data with 30 bins.\n",
    "plt.hist(data,density=True,bins=30,edgecolor=\"black\",alpha=0.5)\n",
    "#b) Overlay a line Plot rePresenting the normal distribution's Probability density function (PDF).\n",
    "x = np.linspace(-4,4,1000)\n",
    "y = np.exp(-x**2/2)/ np.sqrt(2*np.pi)\n",
    "plt.plot(x,y,\"m--\",linewidth=1.5)\n",
    "#c) Label the x-axis as 'Value' and the y-axis as 'Frequency/Probability'\n",
    "plt.xlabel('Value')\n",
    "plt.ylabel('Frequency/Probability')\n",
    "#d) Set the title of the plot as 'Histogram with PDF Overlay'.\n",
    "plt.title('Histogram with PDF Overlay')\n",
    "#display\n",
    "plt.show()\n"
   ]
  },
  {
   "cell_type": "code",
   "execution_count": null,
   "metadata": {},
   "outputs": [],
   "source": [
    "#(16) Set the title of the plot as 'Histogram with PDF Overlay'.\n",
    "plt.title('Histogram with PDF Overlay')"
   ]
  },
  {
   "cell_type": "code",
   "execution_count": null,
   "metadata": {},
   "outputs": [],
   "source": [
    "#(17) Create a Seaborn scatter plot of two random arrays, color points based on their position relative to the \n",
    "#origin (quadrants), add a legend, label the axes, and set the title as 'Quadrant-wise Scatter Plot'.\n",
    "x = np.random.randn(1000)\n",
    "y = np.random.randn(1000)\n",
    "plt.figure(figsize=(8,8))\n",
    "sns.scatterplot(x=x,y=y,hue=np.sign(x)*np.sign(y),palette={1:\"blue\",-1:\"c\"})\n",
    "#add a legend\n",
    "plt.legend(title=\"Quadrant\",labels=[\"I\",\"II\",\"III\",\"IV\"],loc='upper left')\n",
    "#label_The_axis\n",
    "plt.xlabel(\"X-Axis\")\n",
    "plt.ylabel(\"Y-Axis\")\n",
    "#Giving Titel\n",
    "plt.title('Quadrant-wise Scatter Plot')\n",
    "#display\n",
    "plt.show()"
   ]
  },
  {
   "cell_type": "code",
   "execution_count": null,
   "metadata": {},
   "outputs": [],
   "source": [
    "#(18) With Bokeh, plot a line chart of a sine wave function, add grid lines, label the axes, and set the title as 'Sine \n",
    "# Wave Function'\n",
    "import numpy as np\n",
    "from bokeh.plotting import figure, show\n",
    "from bokeh.io import output_notebook\n",
    "output_notebook()\n",
    "p = figure(title=\"Sine Wave Function\",x_axis_label=\"x\",y_axis_label=\"sin(x)\")\n",
    "#Genarte X values\n",
    "x = np.linspace(-2*np.pi,2*np.pi,400)\n",
    "#Genarte Y values\n",
    "y = np.sin(x)\n",
    "#Add a Line Glaph TO the figure\n",
    "p.line(x, y, legend_label='sin(x)', line_width=2)\n",
    "#Add Grid Line\n",
    "p.xgrid.grid_line_color = 'navy'\n",
    "p.ygrid.grid_line_color = 'navy'\n",
    "p.xgrid.grid_line_width = 2\n",
    "p.ygrid.grid_line_width = 2\n",
    "#display\n",
    "show(p)"
   ]
  },
  {
   "cell_type": "code",
   "execution_count": null,
   "metadata": {},
   "outputs": [],
   "source": [
    "#19) Using Bokeh, generate a bar chart of randomly generated categorical data, color bars based on their \n",
    "#values, add hover tooltips to display exact values, label the axes, and set the title as 'Random Categorical \n",
    "#Bar Chart'\n",
    "from bokeh.models import HoverTool\n",
    "output_notebook\n",
    "catogories = [\"A\",\"B\",\"C\",\"D\",\"E\"]\n",
    "values = np.random.randint(1,100,size=len(catogories))\n",
    "# Create a bar chart\n",
    "p = figure(x_range=catogories, title=\"Random Categorical Bar Chart\", toolbar_location=None)\n",
    "# Add bars to the chart\n",
    "p.vbar(x=catogories, top=values, width=0.9,)\n",
    "# Add hover tooltips to display exact values\n",
    "p.add_tools(HoverTool(tooltips=[(\"Value\", \"@top\")]))\n",
    "# Label the axes\n",
    "p.xaxis.axis_label = \"Categories\"\n",
    "p.yaxis.axis_label = \"Values\"\n",
    "show(p)"
   ]
  },
  {
   "cell_type": "code",
   "execution_count": null,
   "metadata": {},
   "outputs": [],
   "source": [
    "#20] Using Plotly, create a basic line plot of a randomly generated dataset, label the axes, and set the title as \n",
    "#'Simple Line Plot'\n",
    "\n",
    "import plotly.express as px\n",
    "x = np.arange(1,11)\n",
    "y = np.random.randint(1,100,size=len(x))\n",
    "fig = px.line(x=x,y=y)\n",
    "fig.update_layout(title=\"Simple Line Plot\",xaxis_title=\"X Axis\",yaxis_title=\"Y Axis\")\n",
    "fig.show()"
   ]
  },
  {
   "cell_type": "code",
   "execution_count": null,
   "metadata": {},
   "outputs": [],
   "source": [
    "#(21) Using Plotly, create an interactive pie chart of randomly generated data, add labels and percentages, set \n",
    "#the title as 'Interactive Pie Chart'.\n",
    "labels = [\"A\",\"F\",\"C\",\"D\",\"E\"]\n",
    "values = np.random.randint(1,100,size=(len(labels)))\n",
    "fig = px.pie(values=values,labels=labels)\n",
    "fig.update_layout(title_text='Interactive Pie Chart')\n",
    "fig.show()\n"
   ]
  },
  {
   "cell_type": "code",
   "execution_count": null,
   "metadata": {},
   "outputs": [],
   "source": []
  }
 ],
 "metadata": {
  "kernelspec": {
   "display_name": "Python 3",
   "language": "python",
   "name": "python3"
  },
  "language_info": {
   "codemirror_mode": {
    "name": "ipython",
    "version": 3
   },
   "file_extension": ".py",
   "mimetype": "text/x-python",
   "name": "python",
   "nbconvert_exporter": "python",
   "pygments_lexer": "ipython3",
   "version": "3.11.9"
  }
 },
 "nbformat": 4,
 "nbformat_minor": 2
}
